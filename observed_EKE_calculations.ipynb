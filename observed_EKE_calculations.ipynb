{
 "cells": [
  {
   "cell_type": "markdown",
   "metadata": {},
   "source": [
    "# Observed eddy kinetic energy calculations\n",
    "Eddy kinetic energy will be calculated using geostrophic velocity anomalies from satellite altimetry observations."
   ]
  },
  {
   "cell_type": "code",
   "execution_count": null,
   "metadata": {},
   "outputs": [],
   "source": [
    "import xarray as xr\n",
    "import numpy as np\n",
    "from cdo import *\n",
    "cdo=Cdo()"
   ]
  },
  {
   "cell_type": "code",
   "execution_count": null,
   "metadata": {},
   "outputs": [],
   "source": [
    "vfiles=[]\n",
    "ufiles=[]\n",
    "for i in np.arange(1993,2020,1):\n",
    "    vfiles.append('obs_vgosa_'+str(i)+'_1.nc')\n",
    "    vfiles.append('obs_vgosa_'+str(i)+'_2.nc')\n",
    "    vfiles.append('obs_vgosa_'+str(i)+'_3.nc')\n",
    "    ufiles.append('obs_ugosa_'+str(i)+'_1.nc')\n",
    "    ufiles.append('obs_ugosa_'+str(i)+'_2.nc')\n",
    "    ufiles.append('obs_ugosa_'+str(i)+'_3.nc')\n",
    "    \n",
    "vfiles.append('obs_vgosa_'+str(2020)+'_1.nc')\n",
    "vfiles.append('obs_vgosa_'+str(2020)+'_2.nc')\n",
    "ufiles.append('obs_ugosa_'+str(2020)+'_1.nc')\n",
    "ufiles.append('obs_ugosa_'+str(2020)+'_2.nc')"
   ]
  },
  {
   "cell_type": "code",
   "execution_count": null,
   "metadata": {},
   "outputs": [],
   "source": [
    "vout='obs_vgosa_1993-2020.nc'\n",
    "uout='obs_ugosa_1993-2020.nc'\n",
    "cdo.copy(input=vfiles,output=vout)\n",
    "cdo.copy(input=ufiles,output=uout)"
   ]
  },
  {
   "cell_type": "markdown",
   "metadata": {},
   "source": [
    "For the highest possible level of consistency between observed calculations and EKE calculations with the modeled climate change projections, 5-day mean velocity data with February 29th removed will be used. "
   ]
  },
  {
   "cell_type": "code",
   "execution_count": null,
   "metadata": {},
   "outputs": [],
   "source": [
    "!cdo del29feb obs_vgosa_1993-2020_nodu.nc obs_vgosa_1993-2020_nol.nc\n",
    "!cdo del29feb obs_ugosa_1993-2020_nodu.nc obs_ugosa_1993-2020_nol.nc"
   ]
  },
  {
   "cell_type": "code",
   "execution_count": null,
   "metadata": {},
   "outputs": [],
   "source": [
    "#Create 5day means\n",
    "inpu='obs_ugosa_1993-2020_nol.nc'\n",
    "inpv='obs_vgosa_1993-2020_nol.nc'\n",
    "\n",
    "outpu='obs_ugosa_1993-2020_nol_5d.nc'\n",
    "outpv='obs_vgosa_1993-2020_nol_5d.nc'\n",
    "\n",
    "cdo.timselmean(5,input=inpu,output=outpu)\n",
    "cdo.timselmean(5,input=inpv,output=outpv)"
   ]
  },
  {
   "cell_type": "markdown",
   "metadata": {},
   "source": [
    "Calculate EKE using cdo."
   ]
  },
  {
   "cell_type": "code",
   "execution_count": null,
   "metadata": {},
   "outputs": [],
   "source": [
    "#square the velocities\n",
    "inpv='obs_vgosa_1993-2020_nol_5d.nc'\n",
    "outpv='obs_vgosa2_1993-2020_nol_5d.nc'\n",
    "\n",
    "cdo.mul(input=([inpv,inpv]),output=outpv)"
   ]
  },
  {
   "cell_type": "code",
   "execution_count": null,
   "metadata": {},
   "outputs": [],
   "source": [
    "inpu='obs_ugosa_1993-2020_nol_5d.nc'\n",
    "outpu='obs_ugosa2_1993-2020_nol_5d.nc'\n",
    "\n",
    "cdo.mul(input=([inpu,inpu]),output=outpu)"
   ]
  },
  {
   "cell_type": "code",
   "execution_count": null,
   "metadata": {},
   "outputs": [],
   "source": [
    "#add zonal and meridional velocities\n",
    "inpu='obs_ugosa2_1993-2020_nol_5d.nc'\n",
    "inpv='obs_vgosa2_1993-2020_nol_5d.nc'\n",
    "outp='obs_v2+u2_1993-2020_nol_5d.nc'\n",
    "\n",
    "cdo.add(input=([inpu,inpv]),output=outp)"
   ]
  },
  {
   "cell_type": "code",
   "execution_count": null,
   "metadata": {},
   "outputs": [],
   "source": [
    "#multiply by the constant 1/2\n",
    "!cdo mulc,0.5 obs_v2+u2_1993-2020_nol_5d.nc obs_eke_1993-2020_nol_5d.nc"
   ]
  },
  {
   "cell_type": "code",
   "execution_count": null,
   "metadata": {
    "scrolled": true
   },
   "outputs": [],
   "source": [
    "#remap the data onto the FESOM mesh for consistent comparison between datasets (i.e. to consistently remove coastal nodes and to select consistent ocean basins)\n",
    "!cdo -P 8 remapbil,/path/to/mesh/data/griddes.nc obs_eke_1993-2020_nol_5d.nc obs_eke_1993-2020_nol_5d_rm.nc"
   ]
  },
  {
   "cell_type": "code",
   "execution_count": null,
   "metadata": {},
   "outputs": [],
   "source": [
    "#apply a 1-year running mean to mask seasonality in time series analysis\n",
    "inp='obs_eke_1993-2020_nol_5d_rm.nc'\n",
    "outp='obs_eke_1993-2020_nol_5d_rm_runmean.nc'\n",
    "cdo.runmean(73,input=inp,output=outp)"
   ]
  },
  {
   "cell_type": "markdown",
   "metadata": {},
   "source": [
    "Change the metadata to reflect the cdo operations"
   ]
  },
  {
   "cell_type": "code",
   "execution_count": null,
   "metadata": {},
   "outputs": [],
   "source": [
    "temp=xr.open_dataset('obs_eke_1993-2020_nol_5d_rm.nc')\n",
    "temp=temp.rename({'ugosa':'EKE'})\n",
    "temp['EKE']=temp.EKE.assign_attrs({'units':'m^2/s^2',\n",
    "                                   'description':'Eddy kinetic energy computed using observed geostrophic surface velocity data from satelite altimetry. Anomalies based on 20yr reference period (1993-2012).'\n",
    "                                   })\n",
    "\n",
    "temp.to_netcdf('obs_eke_1993-2020_nol_5d_rm_mdata.nc')"
   ]
  },
  {
   "cell_type": "code",
   "execution_count": null,
   "metadata": {},
   "outputs": [],
   "source": [
    "temp=xr.open_dataset('obs_eke_1993-2020_nol_5d_rm_runmean.nc')\n",
    "temp=temp.rename({'ugosa':'EKE'})\n",
    "temp['EKE']=temp.EKE.assign_attrs({'units':'m^2/s^2',\n",
    "                                   'description':'Eddy kinetic energy computed using observed geostrophic surface velocity data from satelite altimetry. Anomalies based on 20yr reference period (1993-2012). 1 year running mean applied.'\n",
    "                                   })\n",
    "\n",
    "temp.to_netcdf('obs_eke_1993-2020_nol_5d_rm_runmean_mdata.nc')"
   ]
  },
  {
   "cell_type": "code",
   "execution_count": null,
   "metadata": {},
   "outputs": [],
   "source": []
  }
 ],
 "metadata": {
  "kernelspec": {
   "display_name": "Python 3",
   "language": "python",
   "name": "python3"
  },
  "language_info": {
   "codemirror_mode": {
    "name": "ipython",
    "version": 3
   },
   "file_extension": ".py",
   "mimetype": "text/x-python",
   "name": "python",
   "nbconvert_exporter": "python",
   "pygments_lexer": "ipython3",
   "version": "3.8.8"
  }
 },
 "nbformat": 4,
 "nbformat_minor": 4
}
