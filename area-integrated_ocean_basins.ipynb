{
 "cells": [
  {
   "cell_type": "markdown",
   "metadata": {},
   "source": [
    "# Calculation of area-integrated time series of EKE in selected ocean basins\n",
    "EKE in different ocean basins may have varying responses to climate change with varying physical drivers. To assess each ocean basin individually, area-integrated time series of EKE in selected ocean basins will be calculate. The ocean basins correspond to the major eddy-rich regions of the global ocean, and tend to follow major ocean currents."
   ]
  },
  {
   "cell_type": "code",
   "execution_count": null,
   "metadata": {},
   "outputs": [],
   "source": [
    "import xarray as xr\n",
    "import pyfesom2 as pf\n",
    "import numpy as np\n",
    "from joblib import Parallel, delayed"
   ]
  },
  {
   "cell_type": "code",
   "execution_count": null,
   "metadata": {},
   "outputs": [],
   "source": [
    "meshpath='/path/to/mesh/data/'"
   ]
  },
  {
   "cell_type": "code",
   "execution_count": null,
   "metadata": {},
   "outputs": [],
   "source": [
    "#load mesh info\n",
    "mesh=pf.load_mesh(meshpath)\n",
    "griddes=xr.open_dataset(meshpath+'griddes.nc')"
   ]
  },
  {
   "cell_type": "markdown",
   "metadata": {},
   "source": [
    "Identify the indices corresponding to cells within each basin."
   ]
  },
  {
   "cell_type": "code",
   "execution_count": null,
   "metadata": {},
   "outputs": [],
   "source": [
    "#load the reduced basins\n",
    "braz_basin=np.load('braz_basin_index.npy')\n",
    "kuro_basin=np.load('kuro_basin_index.npy')\n",
    "gulf_basin=np.load('gulf_basin_index.npy')\n",
    "east_basin=np.load('east_basin_index.npy')\n",
    "agul_basin=np.load('agul_basin_index.npy')\n",
    "accu_basin=np.load('accu_basin_index.npy')"
   ]
  },
  {
   "cell_type": "code",
   "execution_count": null,
   "metadata": {},
   "outputs": [],
   "source": [
    "#define some lists\n",
    "basins=[gulf_basin,kuro_basin,east_basin,agul_basin,braz_basin,accu_basin]\n",
    "names=['gulf_basin_ts','kuro_basin_ts','east_basin_ts','agul_basin_ts','braz_basin_ts','accu_basin_ts']\n",
    "runs=['r1','r2','r3','r4','r5']"
   ]
  },
  {
   "cell_type": "markdown",
   "metadata": {},
   "source": [
    "During area weighting, EKE (m^2/s^2) is multiplied by cell area (m^2). Time series then take the sum of the basins. \n",
    "\n",
    "To return units to m^2/s^2 we could divide time series values sum by the total area of each basin. This would allow better comparison between basins but the spatial density of EKE in each basin would still confound the comparison (i.e. low-EKE areas in basin corners). To avoid problems with spatial density, we could use only the sums of EKE, but this would be confounded by total basin area. Our time series will be standardized making this choice unnecessary; therefore, the produce_ts function will only calculate the sum for efficiency."
   ]
  },
  {
   "cell_type": "code",
   "execution_count": null,
   "metadata": {},
   "outputs": [],
   "source": [
    "def produce_ts(k):\n",
    "    return temp.w_EKE[k,basin].sum(dim='ncells').values"
   ]
  },
  {
   "cell_type": "code",
   "execution_count": null,
   "metadata": {},
   "outputs": [],
   "source": [
    "#produce modeled time series\n",
    "for i in np.arange(len(basins)):\n",
    "    box=boxes[i]\n",
    "    for j in np.arange(len(runs)):\n",
    "        temp=xr.open_dataset('weighted/c6_ssh-eke_mon_lin_eq_5day_node_'+runs[j]+'_1860-2090_nol_21yr_anom_runmean_rename_weighted.nc')\n",
    "        ts=Parallel(n_jobs=-1,batch_size=200,verbose=10)(delayed(produce_ts)(k) for k in np.arange(len(temp.time)))\n",
    "        ts=np.asarray(ts)\n",
    "        np.save(names[i]+'_'+runs[j]+'.npy',ts)"
   ]
  },
  {
   "cell_type": "code",
   "execution_count": null,
   "metadata": {
    "scrolled": true
   },
   "outputs": [],
   "source": [
    "#produce observed time series\n",
    "for i in np.arange(len(basins)):\n",
    "    box=boxes[i]\n",
    "    temp=xr.open_dataset('obs_eke_1993-2020_nol_5d_rm_runmean_mdata_weighted.nc')\n",
    "    ts=Parallel(n_jobs=-1,batch_size=20,verbose=10)(delayed(produce_ts)(k) for k in np.arange(len(temp.time)))\n",
    "    ts=np.asarray(ts)\n",
    "    np.save(names[i]+'_obs.npy',ts)"
   ]
  },
  {
   "cell_type": "code",
   "execution_count": null,
   "metadata": {},
   "outputs": [],
   "source": [
    "i=0\n",
    "basin=basins[i]\n",
    "temp=xr.open_dataset('obs_eke_1993-2020_nol_5d_rm_runmean_mdata_weighted.nc')\n",
    "ts=Parallel(n_jobs=-1,batch_size=20,verbose=10)(delayed(produce_ts)(k) for k in np.arange(len(temp.time)))\n",
    "ts=np.asarray(ts)\n",
    "np.save(names[i]+'_obs.npy',ts)"
   ]
  },
  {
   "cell_type": "code",
   "execution_count": null,
   "metadata": {},
   "outputs": [],
   "source": []
  }
 ],
 "metadata": {
  "kernelspec": {
   "display_name": "Python 3",
   "language": "python",
   "name": "python3"
  },
  "language_info": {
   "codemirror_mode": {
    "name": "ipython",
    "version": 3
   },
   "file_extension": ".py",
   "mimetype": "text/x-python",
   "name": "python",
   "nbconvert_exporter": "python",
   "pygments_lexer": "ipython3",
   "version": "3.8.8"
  }
 },
 "nbformat": 4,
 "nbformat_minor": 4
}
