{
 "cells": [
  {
   "cell_type": "markdown",
   "metadata": {},
   "source": [
    "# Compute EKE using modeled data for comparison with observation \n",
    "The observational period for satellite altimetry stretches from 1993-mid 2020 and ssh anomalies used to calculate geostrophic velocity anomalies are relative to the reference period 1993-2012. Surface velocity anomalies within the merged modeled dataset will first be calculated using this reference period and EKE will be calculated using the velocity anomalies."
   ]
  },
  {
   "cell_type": "code",
   "execution_count": null,
   "metadata": {},
   "outputs": [],
   "source": [
    "import xarray as xr\n",
    "import numpy as np\n",
    "from cdo import *\n",
    "cdo=Cdo()\n",
    "from joblib import Parallel, delayed"
   ]
  },
  {
   "cell_type": "markdown",
   "metadata": {},
   "source": [
    "Cut the datasets down to the necessary years. All of 2020 will be included in the 1993-2020 dataset, but only months of 2020 available in the observational dataset should be used in the final comparison."
   ]
  },
  {
   "cell_type": "code",
   "execution_count": null,
   "metadata": {},
   "outputs": [],
   "source": [
    "for i in [1,2,3,4,5]:\n",
    "    inp='c6_ssh-vo_mon_lin_eq_5day_node_r'+str(i)+'_1860-2090_nol.nc'\n",
    "    outp='c6_ssh-vo_mon_lin_eq_5day_node_r'+str(i)+'_1993-2020_nol.nc'\n",
    "    cdo.selyear('1993/2020',input=inp,output=outp)\n",
    "    \n",
    "    inp='c6_ssh-uo_mon_lin_eq_5day_node_r'+str(i)+'_1860-2090_nol.nc'\n",
    "    outp='c6_ssh-uo_mon_lin_eq_5day_node_r'+str(i)+'_1993-2020_nol.nc'\n",
    "    cdo.selyear('1993/2020',input=inp,output=outp)"
   ]
  },
  {
   "cell_type": "code",
   "execution_count": null,
   "metadata": {},
   "outputs": [],
   "source": [
    "for i in [1,2,3,4,5]:\n",
    "    inp='c6_ssh-vo_mon_lin_eq_5day_node_r'+str(i)+'_1860-2090_nol.nc'\n",
    "    outp='c6_ssh-vo_mon_lin_eq_5day_node_r'+str(i)+'_1993-2012_nol.nc'\n",
    "    cdo.selyear('1993/2012',input=inp,output=outp)\n",
    "    \n",
    "    inp='c6_ssh-uo_mon_lin_eq_5day_node_r'+str(i)+'_1860-2090_nol.nc'\n",
    "    outp='c6_ssh-uo_mon_lin_eq_5day_node_r'+str(i)+'_1993-2012_nol.nc'\n",
    "    cdo.selyear('1993/2012',input=inp,output=outp)"
   ]
  },
  {
   "cell_type": "markdown",
   "metadata": {},
   "source": [
    "Calculate anomalies based on the 1993-2012 mean of each 5-day period. "
   ]
  },
  {
   "cell_type": "code",
   "execution_count": null,
   "metadata": {},
   "outputs": [],
   "source": [
    "inds=[]\n",
    "for j in np.arange(len(temp.time))[:73]:\n",
    "    inds.append(np.arange((j),(j+(20*73)),73))"
   ]
  },
  {
   "cell_type": "code",
   "execution_count": null,
   "metadata": {},
   "outputs": [],
   "source": [
    "def ref_mean(i,data):\n",
    "    return np.mean(data[inds[i],:].values,axis=0) "
   ]
  },
  {
   "cell_type": "code",
   "execution_count": null,
   "metadata": {},
   "outputs": [],
   "source": [
    "#vo\n",
    "for run in [1,2,3,4,5]:\n",
    "    temp=xr.open_dataset('c6_ssh-vo_mon_lin_eq_5day_node_r'+str(run)+'_1993-2020_nol.nc')\n",
    "    dtemp=temp.vo\n",
    "    \n",
    "    rmvals=Parallel(n_jobs=-1,batch_size='auto',verbose=10)(delayed(ref_mean)(i,dtemp) for i in np.arange(len(inds)))\n",
    "    rmvals=np.asarray(rmvals)\n",
    "    \n",
    "    repeat=[]\n",
    "    for i in np.arange(28):\n",
    "        repeat.append(rmvals)\n",
    "    rv=np.vstack(repeat)\n",
    "    \n",
    "    tempds=xr.DataArray(data=rv,coords={'time':temp.time[:]},\n",
    "                          dims=['time','ncells'],\n",
    "                          attrs={'description':'multi-year mean of five day vo values 1993-2012',\n",
    "                                'units':'m/s',\n",
    "                                })\n",
    "    tempda=tempds.to_dataset(name='vo')\n",
    "    tempda=tempda.assign({'time_bnds':temp.time_bnds[:]})\n",
    "    tempda.to_netcdf('c6_ssh-vo_mon_lin_eq_5day_node_r'+str(run)+'_1993-2012_means.nc') "
   ]
  },
  {
   "cell_type": "code",
   "execution_count": null,
   "metadata": {},
   "outputs": [],
   "source": [
    "temp=xr.open_dataset('c6_ssh-vo_mon_lin_eq_5day_node_r'+str(1)+'_1993-2020_nol.nc')\n",
    "temp"
   ]
  },
  {
   "cell_type": "code",
   "execution_count": null,
   "metadata": {
    "scrolled": true
   },
   "outputs": [],
   "source": [
    "#uo\n",
    "for run in [1,2,3,4,5]:\n",
    "    temp=xr.open_dataset('c6_ssh-uo_mon_lin_eq_5day_node_r'+str(run)+'_1993-2020_nol.nc')\n",
    "    dtemp=temp.uo\n",
    "    \n",
    "    rmvals=Parallel(n_jobs=-1,batch_size='auto',verbose=10)(delayed(ref_mean)(i,dtemp) for i in np.arange(len(inds)))\n",
    "    rmvals=np.asarray(rmvals)\n",
    "    \n",
    "    repeat=[]\n",
    "    for i in np.arange(28):\n",
    "        repeat.append(rmvals)\n",
    "    rv=np.vstack(repeat)\n",
    "    \n",
    "    tempds=xr.DataArray(data=rv,coords={'time':temp.time[:]},\n",
    "                          dims=['time','ncells'],\n",
    "                          attrs={'description':'multi-year mean of five day uo values 1993-2012',\n",
    "                                'units':'m/s',\n",
    "                                })\n",
    "    tempda=tempds.to_dataset(name='uo')\n",
    "    tempda=tempda.assign({'time_bnds':temp.time_bnds[:]})\n",
    "    tempda.to_netcdf('c6_ssh-uo_mon_lin_eq_5day_node_r'+str(run)+'_1993-2012_means.nc') "
   ]
  },
  {
   "cell_type": "code",
   "execution_count": null,
   "metadata": {},
   "outputs": [],
   "source": [
    "#subtract the refernce period mean from the observational period data\n",
    "for i in [1,2,3,4,5]:\n",
    "    inp1='c6_ssh-vo_mon_lin_eq_5day_node_r'+str(i)+'_1993-2020_nol.nc'\n",
    "    inp2='c6_ssh-vo_mon_lin_eq_5day_node_r'+str(i)+'_1993-2012_means.nc'\n",
    "    outp='c6_ssh-vo_mon_lin_eq_5day_node_r'+str(i)+'_1993-2020_nol_obsanom.nc'\n",
    "    cdo.sub(input=([inp1,inp2]),output=outp)\n",
    "    \n",
    "    "
   ]
  },
  {
   "cell_type": "code",
   "execution_count": null,
   "metadata": {},
   "outputs": [],
   "source": [
    "for i in [1,2,3,4,5]:\n",
    "    inp1='c6_ssh-uo_mon_lin_eq_5day_node_r'+str(i)+'_1993-2020_nol.nc'\n",
    "    inp2='c6_ssh-uo_mon_lin_eq_5day_node_r'+str(i)+'_1993-2012_means.nc'\n",
    "    outp='c6_ssh-uo_mon_lin_eq_5day_node_r'+str(i)+'_1993-2020_nol_obsanom.nc'\n",
    "    cdo.sub(input=([inp1,inp2]),output=outp)"
   ]
  },
  {
   "cell_type": "markdown",
   "metadata": {},
   "source": [
    "Calculate EKE from the anomaly data"
   ]
  },
  {
   "cell_type": "code",
   "execution_count": null,
   "metadata": {},
   "outputs": [],
   "source": [
    "#square the anomalies\n",
    "for i in [1,2,3,4,5]:\n",
    "    inp='c6_ssh-vo_mon_lin_eq_5day_node_r'+str(i)+'_1993-2020_nol_obsanom.nc'\n",
    "    outp='c6_ssh-vo2_mon_lin_eq_5day_node_r'+str(i)+'_1993-2020_nol_obsanom.nc'\n",
    "    cdo.mul(input=([inp,inp]),output=outp)"
   ]
  },
  {
   "cell_type": "code",
   "execution_count": null,
   "metadata": {},
   "outputs": [],
   "source": [
    "for i in [1,2,3,4,5]:\n",
    "    inp='c6_ssh-uo_mon_lin_eq_5day_node_r'+str(i)+'_1993-2020_nol_obsanom.nc'\n",
    "    outp='c6_ssh-uo2_mon_lin_eq_5day_node_r'+str(i)+'_1993-2020_nol_obsanom.nc'\n",
    "    cdo.mul(input=([inp,inp]),output=outp)"
   ]
  },
  {
   "cell_type": "code",
   "execution_count": null,
   "metadata": {},
   "outputs": [],
   "source": [
    "#add the zonal and meridional squared velocities\n",
    "for i in [1,2,3,4,5]:\n",
    "    inpv='c6_ssh-vo2_mon_lin_eq_5day_node_r'+str(i)+'_1993-2020_nol_obsanom.nc'\n",
    "    inpu='c6_ssh-uo2_mon_lin_eq_5day_node_r'+str(i)+'_1993-2020_nol_obsanom.nc'\n",
    "    outp='c6_ssh-vo2-uo2_mon_lin_eq_5day_node_r'+str(i)+'_1993-2020_nol_obsanom.nc'\n",
    "    \n",
    "    cdo.add(input=([inpv,inpu]),output=outp)"
   ]
  },
  {
   "cell_type": "code",
   "execution_count": null,
   "metadata": {},
   "outputs": [],
   "source": [
    "#multiply by the constant 1/2\n",
    "for i in [1,2,3,4,5]:\n",
    "    inp='c6_ssh-vo2-uo2_mon_lin_eq_5day_node_r'+str(i)+'_1993-2020_nol_obsanom.nc'\n",
    "    outp='c6_ssh-eke_mon_lin_eq_5day_node_r'+str(i)+'_1993-2020_nol_obsanom.nc'\n",
    "    cdo.mulc(0.5,input=inp,output=outp)"
   ]
  },
  {
   "cell_type": "code",
   "execution_count": null,
   "metadata": {},
   "outputs": [],
   "source": [
    "#calculate the ensemble mean \n",
    "files=[]\n",
    "for i in [1,2,3,4,5]:\n",
    "    files.append('c6_ssh-eke_mon_lin_eq_5day_node_r'+str(i)+'_1993-2020_nol_obsanom.nc')\n",
    "outp='c6_ssh-eke_mon_lin_eq_5day_node_ensmean_1993-2020_nol_obsanom.nc'\n",
    "cdo.ensmean(input=(files),output=outp)"
   ]
  },
  {
   "cell_type": "code",
   "execution_count": null,
   "metadata": {},
   "outputs": [],
   "source": [
    "#change the metadata to reflect the cdo operations\n",
    "temp=xr.open_dataset('c6_ssh-eke_mon_lin_eq_5day_node_ensmean_1993-2020_nol_obsanom.nc')\n",
    "temp=temp.rename({'vo':'EKE'})\n",
    "temp['EKE']=temp.EKE.assign_attrs({'units':'m^2/s^2',\n",
    "                                   'description':'Eddy kinetic energy computed using modeled 5day mean geostrophic surface velocity data. Anomalies based on 20yr reference period (1993-2012).',\n",
    "                                   'data':'historic-ssp370 simulations from AWICM1s CMIP6 contribution. ensemble mean of five ensemble members'})\n",
    "\n",
    "temp.to_netcdf('c6_ssh-eke_mon_lin_eq_5day_node_ensmean_1993-2020_nol_obsanom_mdata.nc')"
   ]
  },
  {
   "cell_type": "code",
   "execution_count": null,
   "metadata": {},
   "outputs": [],
   "source": []
  }
 ],
 "metadata": {
  "kernelspec": {
   "display_name": "Python 3",
   "language": "python",
   "name": "python3"
  },
  "language_info": {
   "codemirror_mode": {
    "name": "ipython",
    "version": 3
   },
   "file_extension": ".py",
   "mimetype": "text/x-python",
   "name": "python",
   "nbconvert_exporter": "python",
   "pygments_lexer": "ipython3",
   "version": "3.8.8"
  }
 },
 "nbformat": 4,
 "nbformat_minor": 4
}
