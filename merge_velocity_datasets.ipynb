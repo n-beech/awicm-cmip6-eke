{
 "cells": [
  {
   "cell_type": "markdown",
   "metadata": {},
   "source": [
    "# Merging geostrophic velocities with direct model output\n",
    "Negligable Coriolis parameter close to the equator interferes with geostrophic velocity calculations. The region 3S to 3N is replaced with interpolated monthly velocity data from direct model output."
   ]
  },
  {
   "cell_type": "code",
   "execution_count": null,
   "metadata": {},
   "outputs": [],
   "source": [
    "import xarray as xr\n",
    "import pyfesom2 as pf\n",
    "import numpy as np\n",
    "from cdo import *\n",
    "cdo=Cdo()\n",
    "import datetime as dt\n",
    "from joblib import Parallel, delayed\n",
    "import os"
   ]
  },
  {
   "cell_type": "code",
   "execution_count": null,
   "metadata": {},
   "outputs": [],
   "source": [
    "meshpath='/path/to/mesh/data/'"
   ]
  },
  {
   "cell_type": "markdown",
   "metadata": {},
   "source": [
    "Concatenate the data into the full timeseries. This is necessary in order to accurately interpolate the monthly data, but requires a large amoount of memory."
   ]
  },
  {
   "cell_type": "code",
   "execution_count": null,
   "metadata": {},
   "outputs": [],
   "source": [
    "years=np.arange(1850,2101,1)\n",
    "runs=[1,2,3,4,5]"
   ]
  },
  {
   "cell_type": "code",
   "execution_count": null,
   "metadata": {},
   "outputs": [],
   "source": [
    "for run in runs:\n",
    "    vfiles=[]\n",
    "    ufiles=[]\n",
    "    for year in years:\n",
    "        vfiles.append('c6_ssh-vo_daily_node_r'+str(run)+'_'+str(years[year])+'.nc')\n",
    "        ufiles.append('c6_ssh-uo_daily_node_r'+str(run)+'_'+str(years[year])+'.nc')\n",
    "    vout='c6_ssh-vo_daily_node_r'+str(run)+'_1850-2100.nc'\n",
    "    uout='c6_ssh-uo_daily_node_r'+str(run)+'_1850-2100.nc'\n",
    "    cdo.copy(input=vfiles,output=vout)\n",
    "    cdo.copy(input=ufiles,output=uout)"
   ]
  },
  {
   "cell_type": "markdown",
   "metadata": {},
   "source": [
    "Remove February 29th and coarsen the data to 5-day means"
   ]
  },
  {
   "cell_type": "code",
   "execution_count": null,
   "metadata": {},
   "outputs": [],
   "source": [
    "!cdo timselmean,5,0,0 -del29feb c6_ssh-uo_daily_node_r1_1850-2100.nc c6_ssh-uo_5day_node_r1_1850-2100_nol.nc\n",
    "!cdo timselmean,5,0,0 -del29feb c6_ssh-uo_daily_node_r2_1850-2100.nc c6_ssh-uo_5day_node_r2_1850-2100_nol.nc\n",
    "!cdo timselmean,5,0,0 -del29feb c6_ssh-uo_daily_node_r3_1850-2100.nc c6_ssh-uo_5day_node_r3_1850-2100_nol.nc\n",
    "!cdo timselmean,5,0,0 -del29feb c6_ssh-uo_daily_node_r4_1850-2100.nc c6_ssh-uo_5day_node_r4_1850-2100_nol.nc\n",
    "!cdo timselmean,5,0,0 -del29feb c6_ssh-uo_daily_node_r5_1850-2100.nc c6_ssh-uo_5day_node_r5_1850-2100_nol.nc"
   ]
  },
  {
   "cell_type": "code",
   "execution_count": null,
   "metadata": {},
   "outputs": [],
   "source": [
    "!cdo timselmean,5,0,0 -del29feb c6_ssh-vo_daily_node_r1_1850-2100.nc c6_ssh-vo_5day_node_r1_1850-2100_nol.nc\n",
    "!cdo timselmean,5,0,0 -del29feb c6_ssh-vo_daily_node_r2_1850-2100.nc c6_ssh-vo_5day_node_r2_1850-2100_nol.nc\n",
    "!cdo timselmean,5,0,0 -del29feb c6_ssh-vo_daily_node_r3_1850-2100.nc c6_ssh-vo_5day_node_r3_1850-2100_nol.nc\n",
    "!cdo timselmean,5,0,0 -del29feb c6_ssh-vo_daily_node_r4_1850-2100.nc c6_ssh-vo_5day_node_r4_1850-2100_nol.nc\n",
    "!cdo timselmean,5,0,0 -del29feb c6_ssh-vo_daily_node_r5_1850-2100.nc c6_ssh-vo_5day_node_r5_1850-2100_nol.nc"
   ]
  },
  {
   "cell_type": "markdown",
   "metadata": {},
   "source": [
    "Only monthly mean velocity data is available. Interpolate the monthly data temporally."
   ]
  },
  {
   "cell_type": "code",
   "execution_count": null,
   "metadata": {},
   "outputs": [],
   "source": [
    "#load mesh information\n",
    "mesh=pf.load_mesh(meshpath)"
   ]
  },
  {
   "cell_type": "code",
   "execution_count": null,
   "metadata": {},
   "outputs": [],
   "source": [
    "def sel_region(lolat,hilat,lolon,hilon,inclusive=True):\n",
    "    inds=np.arange(len(mesh.x2))\n",
    "    if inclusive==True:\n",
    "        return[a for a,x,y in zip(inds,mesh.y2,mesh.x2) if x>=lolat and x<=hilat and y>=lolon and y<=hilon]\n",
    "    else:\n",
    "        return[a for a,x,y in zip(inds,mesh.y2,mesh.x2) if x>lolat and x<hilat and y>lolon and y<hilon]"
   ]
  },
  {
   "cell_type": "code",
   "execution_count": null,
   "metadata": {},
   "outputs": [],
   "source": [
    "eq=sel_region(-3,3,-180,180)"
   ]
  },
  {
   "cell_type": "code",
   "execution_count": null,
   "metadata": {},
   "outputs": [],
   "source": [
    "def interpu(i):\n",
    "    int1=mond.uo[:,i].interp_like(dayd.uo[:,0],kwargs={\"fill_value\": \"extrapolate\"})\n",
    "    return int1.values\n",
    "\n",
    "def interpv(i):\n",
    "    int1=mond.vo[:,i].interp_like(dayd.uo[:,0],kwargs={\"fill_value\": \"extrapolate\"})\n",
    "    return int1.values"
   ]
  },
  {
   "cell_type": "code",
   "execution_count": null,
   "metadata": {},
   "outputs": [],
   "source": [
    "#sample of the 5-day mean time series\n",
    "time_data=xr.open_dataset('c6_ssh-uo_5day_node_r1_1850-2100_nol.nc')\n",
    "dtindex=dayd.indexes['time'].to_datetimeindex()\n",
    "dayd['time']=dtindex"
   ]
  },
  {
   "cell_type": "code",
   "execution_count": null,
   "metadata": {},
   "outputs": [],
   "source": [
    "for run in [1,2,3,4,5]:\n",
    "    intvals=[]\n",
    "\n",
    "    #monthly data in a single dataset for interpolation\n",
    "    monvfiles=[]\n",
    "    #historical\n",
    "    monvfiles.append('vo_Omon_AWI-CM-1-1-MR_historical_r'+str(run)+'i1p1f1_gn_185001-185012.nc')\n",
    "    for year in np.arange(1851,2001,10):\n",
    "        monvfiles.append('vo_Omon_AWI-CM-1-1-MR_historical_r'+str(run)+'i1p1f1_gn_'+str(year)+'01-'+str(year+9)+'12.nc')\n",
    "    monvfiles.append('vo_Omon_AWI-CM-1-1-MR_historical_r'+str(run)+'i1p1f1_gn_201101-201412.nc')\n",
    "    #scenario\n",
    "    monvfiles.append('vo_Omon_AWI-CM-1-1-MR_ssp370_r'+str(run)+'i1p1f1_gn_201501-202012.nc')\n",
    "    for year in np.arange(2021,2091,10):\n",
    "        monvfiles.append('vo_Omon_AWI-CM-1-1-MR_ssp370_r'+str(run)+'i1p1f1_gn_'+str(year)+'01-'+str(year+9)+'12.nc')\n",
    "    \n",
    "    mond=xr.open_mfdataset(monvfiles)\n",
    "    mond=mond.sel({'depth':0},drop=True) \n",
    "    \n",
    "    intvals=Parallel(n_jobs=-1,batch_size=150,verbose=10) (delayed(interpv)(i) for i in eq)\n",
    "    mond.close()\n",
    "    dayd.close()\n",
    "    \n",
    "    temp=xr.DataArray(data=np.asarray(intvals),coords={'time':dtindex},\n",
    "                      dims={'time','ncells'},\n",
    "                      attrs={'description':'5-day mean vo data between 3S and 3N interpolated from monthly vo data',\n",
    "                            'units':'m/s',\n",
    "                            })\n",
    "    temp=temp.to_dataset(name='vo')\n",
    "    \n",
    "    temp.to_netcdf('c6_vo_mon_interp_extrap_eq_1850-2100_r'+str(run)+'.nc')\n",
    "    temp.close()"
   ]
  },
  {
   "cell_type": "code",
   "execution_count": null,
   "metadata": {},
   "outputs": [],
   "source": [
    "for run in [1,2,3,4,5]:\n",
    "    intvals=[]\n",
    "\n",
    "    #monthly data in a single dataset for interpolation\n",
    "    monufiles=[]\n",
    "    #historical\n",
    "    monufiles.append('uo_Omon_AWI-CM-1-1-MR_historical_r'+str(run)+'i1p1f1_gn_185001-185012.nc')\n",
    "    for year in np.arange(1851,2001,10):\n",
    "        monufiles.append('uo_Omon_AWI-CM-1-1-MR_historical_r'+str(run)+'i1p1f1_gn_'+str(year)+'01-'+str(year+9)+'12.nc')\n",
    "    monufiles.append('uo_Omon_AWI-CM-1-1-MR_historical_r'+str(run)+'i1p1f1_gn_201101-201412.nc')\n",
    "    #scenario\n",
    "    monufiles.append('uo_Omon_AWI-CM-1-1-MR_ssp370_r'+str(run)+'i1p1f1_gn_201501-202012.nc')\n",
    "    for year in np.arange(2021,2091,10):\n",
    "        monufiles.append('uo_Omon_AWI-CM-1-1-MR_ssp370_r'+str(run)+'i1p1f1_gn_'+str(year)+'01-'+str(year+9)+'12.nc')\n",
    "    \n",
    "    mond=xr.open_mfdataset(monufiles)\n",
    "    mond=mond.sel({'depth':0},drop=True) \n",
    "    \n",
    "    intvals=Parallel(n_jobs=-1,batch_size=150,verbose=10) (delayed(interpu)(i) for i in eq)\n",
    "    mond.close()\n",
    "    dayd.close()\n",
    "    \n",
    "    temp=xr.DataArray(data=np.asarray(intvals),coords={'time':dtindex},\n",
    "                      dims={'time','ncells'},\n",
    "                      attrs={'description':'5-day mean uo data between 3S and 3N interpolated from monthly vo data',\n",
    "                            'units':'m/s',\n",
    "                            })\n",
    "    temp=temp.to_dataset(name='uo')\n",
    "    \n",
    "    temp.to_netcdf('c6_uo_mon_interp_extrap_eq_1850-2100_r'+str(run)+'.nc')\n",
    "    temp.close()"
   ]
  },
  {
   "cell_type": "markdown",
   "metadata": {},
   "source": [
    "Replace the equator (3S to 3N) in the geostrophic dataset with the interpolated monthly values"
   ]
  },
  {
   "cell_type": "code",
   "execution_count": null,
   "metadata": {},
   "outputs": [],
   "source": [
    "for run in [1,2,3,4,5]:\n",
    "    mond=xr.open_dataset('c6_vo_mon_interp_extrap_eq_1850-2100_r'+str(run)+'.nc')\n",
    "    dayd=xr.open_dataset('c6_ssh-vo_5day_node_r'+str(run)+'_1850-2100_nol.nc')\n",
    "    \n",
    "    data=dayd.vo.values\n",
    "    data[:,eq]=mond.vo[:,:].values\n",
    "    \n",
    "    da=xr.DataArray(data=data,\n",
    "                    dims={'time','ncells'},\n",
    "                    name='vo',\n",
    "                    coords={'time':dtindex},\n",
    "                    attrs={'description':'5-day geostrophic vo data with 3S to 3N replaced with interpolated monthly vo',\n",
    "                           'units':'m/s',\n",
    "                            })\n",
    "    \n",
    "    ds=da.to_dataset(name='vo')\n",
    "    ds=ds.assign({'time_bnds':dayd.time_bnds})\n",
    "    ds=ds.assign_attrs({'description':'5day mean vo reconstructed from geostrophy and monthly data from AWICM1 CMIP6 contribution',\n",
    "                'simulation':'Years 1850-2100 from historic and ssp370 simulations. Ensemble member r'+str(run)})\n",
    "    \n",
    "    ds.to_netcdf('c6_ssh-vo_mon_lin_eq_5day_node_r'+str(run)+'_1850-2100_nol.nc')"
   ]
  },
  {
   "cell_type": "code",
   "execution_count": null,
   "metadata": {},
   "outputs": [],
   "source": [
    "for run in [1,2,3,4,5]:\n",
    "    mond=xr.open_dataset('c6_uo_mon_interp_extrap_eq_1850-2100_r'+str(run)+'.nc')\n",
    "    dayd=xr.open_dataset('c6_ssh-uo_5day_node_r'+str(run)+'_1850-2100_nol.nc')\n",
    "    \n",
    "    data=dayd.uo.values\n",
    "    data[:,eq]=mond.uo[:,:].values\n",
    "    \n",
    "    da=xr.DataArray(data=data,\n",
    "                    dims={'time','ncells'},\n",
    "                    name='uo',\n",
    "                    coords={'time':dtindex},\n",
    "                    attrs={'description':'5-day geostrophic uo data with 3S to 3N replaced with interpolated monthly uo',\n",
    "                           'units':'m/s',\n",
    "                            })\n",
    "    \n",
    "    ds=da.to_dataset(name='uo')\n",
    "    ds=ds.assign({'time_bnds':dayd.time_bnds})\n",
    "    ds=ds.assign_attrs({'description':'5day mean uo reconstructed from geostrophy and monthly data from AWICM1 CMIP6 contribution',\n",
    "                'simulation':'Years 1850-2100 from historic and ssp370 simulations. Ensemble member r'+str(run)})\n",
    "    \n",
    "    ds.to_netcdf('c6_ssh-uo_mon_lin_eq_5day_node_r'+str(run)+'_1850-2100_nol.nc')"
   ]
  },
  {
   "cell_type": "code",
   "execution_count": null,
   "metadata": {},
   "outputs": [],
   "source": []
  }
 ],
 "metadata": {
  "kernelspec": {
   "display_name": "Python 3",
   "language": "python",
   "name": "python3"
  },
  "language_info": {
   "codemirror_mode": {
    "name": "ipython",
    "version": 3
   },
   "file_extension": ".py",
   "mimetype": "text/x-python",
   "name": "python",
   "nbconvert_exporter": "python",
   "pygments_lexer": "ipython3",
   "version": "3.8.8"
  }
 },
 "nbformat": 4,
 "nbformat_minor": 4
}
