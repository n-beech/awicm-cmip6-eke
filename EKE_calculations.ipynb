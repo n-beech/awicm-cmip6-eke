{
 "cells": [
  {
   "cell_type": "markdown",
   "metadata": {},
   "source": [
    "# Compute eddy kinetic energy from surface velocity anomalies\n",
    "The anomaly datasets of merged surface velocities are now ready to be used to calculate EKE. This is done using cdo due to the size of the datasets. cdo will not change the metadata of the datasets, so the EKE data will still have the metadata of the original velocity datasets until it is changed. cdo also produces a new dataset in between each stage of the calculations, so to save space, it may be wise to delete the interim files."
   ]
  },
  {
   "cell_type": "code",
   "execution_count": null,
   "metadata": {},
   "outputs": [],
   "source": [
    "import xarray as xr\n",
    "import numpy as np\n",
    "from cdo import *\n",
    "cdo=Cdo()\n",
    "from joblib import Parallel, delayed\n",
    "import gc"
   ]
  },
  {
   "cell_type": "code",
   "execution_count": null,
   "metadata": {},
   "outputs": [],
   "source": [
    "#square the velocity anomalies\n",
    "for i in [1,2,3,4,5]:\n",
    "    inp='c6_ssh-vo_mon_lin_eq_5day_node_r'+str(i)+'_1860-2090_nol_anom.nc'\n",
    "    outp='c6_ssh-vo2_mon_lin_eq_5day_node_r'+str(i)+'_1860-2090_nol_anom.nc'\n",
    "    cdo.mul(input=([inp,inp]),output=outp)"
   ]
  },
  {
   "cell_type": "code",
   "execution_count": null,
   "metadata": {},
   "outputs": [],
   "source": [
    "for i in [1,2,3,4,5]:\n",
    "    inp='c6_ssh-uo_mon_lin_eq_5day_node_r'+str(i)+'_1860-2090_nol_anom.nc'\n",
    "    outp='c6_ssh-uo2_mon_lin_eq_5day_node_r'+str(i)+'_1860-2090_nol_anom.nc'\n",
    "    cdo.mul(input=([inp,inp]),output=outp)"
   ]
  },
  {
   "cell_type": "code",
   "execution_count": null,
   "metadata": {},
   "outputs": [],
   "source": [
    "#add the zonal and merdional square velocities\n",
    "for i in [1,2,3,4,5]:\n",
    "    inv='c6_ssh-vo2_mon_lin_eq_5day_node_r'+str(i)+'_1860-2090_nol_anom.nc'\n",
    "    inu='c6_ssh-uo2_mon_lin_eq_5day_node_r'+str(i)+'_1860-2090_nol_anom.nc'\n",
    "    outp='c6_ssh-vo2+uo2_mon_lin_eq_5day_node_r'+str(i)+'_1860-2090_nol_anom.nc'\n",
    "    cdo.add(input=([inv,inu]),output=outp)"
   ]
  },
  {
   "cell_type": "code",
   "execution_count": null,
   "metadata": {},
   "outputs": [],
   "source": [
    "#multiply by 1/2\n",
    "for i in [1,2,3,4,5]:\n",
    "    inp='c6_ssh-vo2+uo2_mon_lin_eq_5day_node_r'+str(i)+'_1860-2090_nol_anom.nc'\n",
    "    outp='c6_ssh-eke_mon_lin_eq_5day_node_r'+str(i)+'_1860-2090_nol_anom.nc'\n",
    "    cdo.mulc(0.5,input=inp,output=outp)"
   ]
  },
  {
   "cell_type": "code",
   "execution_count": null,
   "metadata": {},
   "outputs": [],
   "source": [
    "#calculate a one year running mean to mask seasonality in the time series\n",
    "for i in [1,2,3,4,5]:\n",
    "    inp='c6_ssh-eke_mon_lin_eq_5day_node_r'+str(i)+'_1860-2090_nol_anom.nc'\n",
    "    outp='c6_ssh-eke_mon_lin_eq_5day_node_r'+str(i)+'_1860-2090_nol_anom_runmean.nc'\n",
    "    cdo.runmean(73,input=inp,output=outp)"
   ]
  },
  {
   "cell_type": "code",
   "execution_count": null,
   "metadata": {},
   "outputs": [],
   "source": [
    "#change the metadata of the resulting files\n",
    "def namex_rm(i):\n",
    "    temp=xr.open_dataset('c6_ssh-eke_mon_lin_eq_5day_node_r'+str(i)+'_1860-2090_nol_anom_runmean.nc')\n",
    "    temp=temp.rename({'vo':'EKE'})\n",
    "    temp['EKE']=temp.EKE.assign_attrs({'units':'m^2/s^2',\n",
    "                                       'description':'Eddy kinetic energy computed using 5day mean geostrophic surface velocity data. Anomalies based on 21yr running mean for each 5 day period. 1 year running mean applied',\n",
    "                                       'data':'historic-ssp370 simukations from AWICM1s CMIP6 contribution. r'+str(i)+' of five ensemble members'})\n",
    "    \n",
    "    temp.to_netcdf('c6_ssh-eke_mon_lin_eq_5day_node_r'+str(i)+'_1860-2090_nol_21yr_anom_runmean_rename.nc')"
   ]
  },
  {
   "cell_type": "code",
   "execution_count": null,
   "metadata": {},
   "outputs": [],
   "source": [
    "Parallel(n_jobs=5,verbose=100)(delayed(namex_rm)(i) for i in [1,2,3,4,5])"
   ]
  },
  {
   "cell_type": "code",
   "execution_count": null,
   "metadata": {},
   "outputs": [],
   "source": [
    "def namex(i):\n",
    "    temp=xr.open_dataset('c6_ssh-eke_mon_lin_eq_5day_node_r'+str(i)+'_1860-2090_nol_anom.nc')\n",
    "    temp=temp.rename({'vo':'EKE'})\n",
    "    temp['EKE']=temp.EKE.assign_attrs({'units':'m^2/s^2',\n",
    "                                       'description':'Eddy kinetic energy computed using 5day mean geostrophic surface velocity data. Anomalies based on 21yr running mean for each 5 day period.',\n",
    "                                       'data':'historic-ssp370 simukations from AWICM1s CMIP6 contribution. r'+str(i)+' of five ensemble members'})\n",
    "    \n",
    "    temp.to_netcdf('c6_ssh-eke_mon_lin_eq_5day_node_r'+str(i)+'_1860-2090_nol_21yr_anom_rename.nc')\n",
    "    \n",
    "    temp.close()\n",
    "    gc.collect(2)\n",
    "    gc.collect(1)"
   ]
  },
  {
   "cell_type": "code",
   "execution_count": null,
   "metadata": {},
   "outputs": [],
   "source": [
    "Parallel(n_jobs=3,verbose=100)(delayed(namex)(i) for i in [1,2,3,4,5])"
   ]
  },
  {
   "cell_type": "code",
   "execution_count": null,
   "metadata": {},
   "outputs": [],
   "source": [
    "#calculate the ensemble mean (only necessary for the non-running mean data)\n",
    "files=[]\n",
    "outp='c6_ssh-eke_mon_lin_eq_5day_node_ensmean_1860-2090_nol_21yr_anom_rename.nc'\n",
    "for i in [1,2,3,4,5]:\n",
    "    files.append('c6_ssh-eke_mon_lin_eq_5day_node_r'+str(i)+'_1860-2090_nol_21yr_anom_rename.nc')\n",
    "cdo.ensmean(input=(files),output=outp)"
   ]
  },
  {
   "cell_type": "code",
   "execution_count": null,
   "metadata": {},
   "outputs": [],
   "source": []
  }
 ],
 "metadata": {
  "kernelspec": {
   "display_name": "Python 3",
   "language": "python",
   "name": "python3"
  },
  "language_info": {
   "codemirror_mode": {
    "name": "ipython",
    "version": 3
   },
   "file_extension": ".py",
   "mimetype": "text/x-python",
   "name": "python",
   "nbconvert_exporter": "python",
   "pygments_lexer": "ipython3",
   "version": "3.8.8"
  }
 },
 "nbformat": 4,
 "nbformat_minor": 4
}
