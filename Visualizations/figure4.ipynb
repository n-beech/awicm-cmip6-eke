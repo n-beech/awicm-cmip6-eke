{
 "cells": [
  {
   "cell_type": "code",
   "execution_count": null,
   "id": "1b133c79",
   "metadata": {},
   "outputs": [],
   "source": [
    "import xarray as xr\n",
    "import pyfesom2 as pf\n",
    "import numpy as np\n",
    "from matplotlib import pyplot as plt\n",
    "from joblib import Parallel, delayed\n",
    "import datetime as dt\n",
    "import cftime as cf\n",
    "from scipy import stats as st\n",
    "from matplotlib.gridspec import GridSpec\n",
    "from scipy import signal"
   ]
  },
  {
   "cell_type": "code",
   "execution_count": null,
   "id": "7543b68d",
   "metadata": {},
   "outputs": [],
   "source": [
    "timed=xr.open_dataset('c6_ssh-eke_mon_lin_eq_ann_node_r'+str(1)+'_1860-2090_nol_21yr_anom_rename_weighted.nc')\n",
    "obstime=xr.open_dataset('obs_eke_1993-2020_nol_5d_rm_runmean_mdata_weighted.nc')\n",
    "temptime=xr.open_dataset('c6_tas_r'+str(1)+'_1850-2100_ymonmean_aweight_fldmean_anom.nc')\n",
    "timed.time"
   ]
  },
  {
   "cell_type": "code",
   "execution_count": null,
   "id": "0d628927",
   "metadata": {},
   "outputs": [],
   "source": [
    "#load the saved time series\n",
    "kuro1=np.load('annual_kuro_basin_ts_r1.npy')\n",
    "kuro2=np.load('annual_kuro_basin_ts_r2.npy')\n",
    "kuro3=np.load('annual_kuro_basin_ts_r3.npy')\n",
    "kuro4=np.load('annual_kuro_basin_ts_r4.npy')\n",
    "kuro5=np.load('annual_kuro_basin_ts_r5.npy')\n",
    "\n",
    "gulf1=np.load('annual_gulf_basin_ts_r1.npy')\n",
    "gulf2=np.load('annual_gulf_basin_ts_r2.npy')\n",
    "gulf3=np.load('annual_gulf_basin_ts_r3.npy')\n",
    "gulf4=np.load('annual_gulf_basin_ts_r4.npy')\n",
    "gulf5=np.load('annual_gulf_basin_ts_r5.npy')\n",
    "\n",
    "agul1=np.load('annual_agul_basin_ts_r1.npy')\n",
    "agul2=np.load('annual_agul_basin_ts_r2.npy')\n",
    "agul3=np.load('annual_agul_basin_ts_r3.npy')\n",
    "agul4=np.load('annual_agul_basin_ts_r4.npy')\n",
    "agul5=np.load('annual_agul_basin_ts_r5.npy')\n",
    "\n",
    "braz1=np.load('annual_braz_basin_ts_r1.npy')\n",
    "braz2=np.load('annual_braz_basin_ts_r2.npy')\n",
    "braz3=np.load('annual_braz_basin_ts_r3.npy')\n",
    "braz4=np.load('annual_braz_basin_ts_r4.npy')\n",
    "braz5=np.load('annual_braz_basin_ts_r5.npy')\n",
    "\n",
    "accu1=np.load('annual_accu_basin_ts_r1.npy')\n",
    "accu2=np.load('annual_accu_basin_ts_r2.npy')\n",
    "accu3=np.load('annual_accu_basin_ts_r3.npy')\n",
    "accu4=np.load('annual_accu_basin_ts_r4.npy')\n",
    "accu5=np.load('annual_accu_basin_ts_r5.npy')"
   ]
  },
  {
   "cell_type": "code",
   "execution_count": null,
   "id": "ff20bfc4",
   "metadata": {},
   "outputs": [],
   "source": [
    "#load the mgst time series\n",
    "mgst1=xr.open_dataset('c6_tas_r1_1850-2100_ymonmean_aweight_fldmean_anom.nc').tas[:,0,0]\n",
    "mgst2=xr.open_dataset('c6_tas_r2_1850-2100_ymonmean_aweight_fldmean_anom.nc').tas[:,0,0]\n",
    "mgst3=xr.open_dataset('c6_tas_r3_1850-2100_ymonmean_aweight_fldmean_anom.nc').tas[:,0,0]\n",
    "mgst4=xr.open_dataset('c6_tas_r4_1850-2100_ymonmean_aweight_fldmean_anom.nc').tas[:,0,0]\n",
    "mgst5=xr.open_dataset('c6_tas_r5_1850-2100_ymonmean_aweight_fldmean_anom.nc').tas[:,0,0]"
   ]
  },
  {
   "cell_type": "code",
   "execution_count": null,
   "id": "9513868f",
   "metadata": {},
   "outputs": [],
   "source": [
    "def stand(ts):\n",
    "    hist=ts[133:133+28]\n",
    "    hm=np.mean(hist)\n",
    "    hstd=np.std(signal.detrend(hist))\n",
    "    ts=(ts-hm)/hstd\n",
    "    return ts"
   ]
  },
  {
   "cell_type": "code",
   "execution_count": null,
   "id": "fb7fc49a",
   "metadata": {},
   "outputs": [],
   "source": [
    "kuros=[kuro1,kuro2,kuro3,kuro4,kuro5]\n",
    "gulfs=[gulf1,gulf2,gulf3,gulf4,gulf5]\n",
    "brazs=[braz1,braz2,braz3,braz4,braz5]\n",
    "aguls=[agul1,agul2,agul3,agul4,agul5]\n",
    "accus=[accu1,accu2,accu3,accu4,accu5]\n",
    "mgsts=[mgst1,mgst2,mgst3,mgst4,mgst5]"
   ]
  },
  {
   "cell_type": "code",
   "execution_count": null,
   "id": "af2fa084",
   "metadata": {},
   "outputs": [],
   "source": [
    "kurox=[]\n",
    "gulfx=[]\n",
    "brazx=[]\n",
    "agulx=[]\n",
    "accux=[]\n",
    "for i in np.arange(len(kuros)):\n",
    "    kurox.append(stand(kuros[i]))\n",
    "    gulfx.append(stand(gulfs[i]))\n",
    "    brazx.append(stand(brazs[i]))\n",
    "    accux.append(stand(accus[i]))\n",
    "    agulx.append(stand(aguls[i]))"
   ]
  },
  {
   "cell_type": "code",
   "execution_count": null,
   "id": "1323f261",
   "metadata": {},
   "outputs": [],
   "source": [
    "#create one figure"
   ]
  },
  {
   "cell_type": "code",
   "execution_count": null,
   "id": "56549cd9",
   "metadata": {},
   "outputs": [],
   "source": [
    "labels=['a. Gulf Stream','b. Kuroshio','c. Agulhas','d. Brazil/Malvinas','e. Antarctic Circumpolar Current']\n",
    "basins=[gulfx,kurox,agulx,brazx,accux]\n",
    "temps=[mgst1,mgst2,mgst3,mgst4,mgst5]"
   ]
  },
  {
   "cell_type": "code",
   "execution_count": null,
   "id": "0bccb71f",
   "metadata": {},
   "outputs": [],
   "source": [
    "fig=plt.figure(figsize=(24,16),dpi=700)\n",
    "fig,ax=plt.subplots(3,2,figsize=(24,16))"
   ]
  },
  {
   "cell_type": "code",
   "execution_count": null,
   "id": "6cd41a9e",
   "metadata": {},
   "outputs": [],
   "source": [
    "fig=plt.figure(figsize=(24,16),dpi=800)\n",
    "\n",
    "lax = fig.add_subplot(111)\n",
    "lax.tick_params(labelcolor='w',top=False,bottom=False,left=False,right=False)\n",
    "lax.spines['top'].set_color('none')\n",
    "lax.spines['bottom'].set_color('none')\n",
    "lax.spines['left'].set_color('none')\n",
    "lax.spines['right'].set_color('none')\n",
    "lax.set_ylabel('Eddy kinetic energy ('+r'$\\sigma$'+' from mean)',labelpad=40,fontsize=32)\n",
    "lax.set_xlabel('Mean annual surface temperature anomaly (°C)',labelpad=14,fontsize=28)\n",
    "\n",
    "ax=np.hstack(ax)\n",
    "gs=GridSpec(3,2,figure=fig)\n",
    "\n",
    "for i in np.arange(5):\n",
    "    if i ==4:\n",
    "        ax[i]=fig.add_subplot(gs[2,0:])\n",
    "        ax[i].set_yticks([-3,0,3,6,9])\n",
    "    else:\n",
    "        ax[i]=fig.add_subplot(3,2,i+1)\n",
    "        \n",
    "    mgstf=np.hstack([mgst1[154:-10],mgst2[154:-10],mgst3[154:-10],mgst4[154:-10],mgst5[154:-10]])\n",
    "    af,bf,rf,pf,stf=st.linregress(mgstf,np.hstack([basins[i][0][144:],basins[i][1][144:],basins[i][2][144:],basins[i][3][144:],basins[i][4][144:]]))\n",
    "    trf=np.polyval([af,bf],np.linspace(np.min(mgstf),np.max(mgstf)))\n",
    "    \n",
    "    if pf<0.001:\n",
    "        text='{:.2f}'.format(np.round(af,2))+' '+r'$\\sigma$'+'/°C, R$^2$ = '+'{:.2f}'.format(np.round(rf**2,2))+', p<0.001'\n",
    "    else:\n",
    "        text='{:.2f}'.format(np.round(af,2))+' '+r'$\\sigma$'+'/°C, R$^2$ = ''{:.2f}'.format(np.round(rf**2,2))+', p = '+'{:.3f}'.format(np.round(pf,3))\n",
    "\n",
    "    if i==0:\n",
    "        ll='upper right'\n",
    "    else:\n",
    "        ll='lower right'\n",
    "    \n",
    "    plt.plot(np.linspace(np.min(mgstf),np.max(mgstf)),trf,color='red',ls='--',lw=2,\n",
    "            label=text)\n",
    "    ax[i].legend(loc=ll,fontsize=20,framealpha=0.5)\n",
    "    \n",
    "    for j in np.arange(5):\n",
    "        ax[i].scatter(mgsts[j][10:-10],basins[i][j],color='grey',alpha=0.8,lw=0.4,)\n",
    "        \n",
    "    ax[i].tick_params(labelsize=18)\n",
    "    ax[i].text(0.02, 0.92,labels[i],horizontalalignment='left', verticalalignment='center', \n",
    "                   transform=ax[i].transAxes,fontsize=25,weight='bold')\n",
    "    ax[i].grid(which='major',axis='y')\n",
    "\n",
    "fig.tight_layout(h_pad=1.5,w_pad=0.5)\n",
    "fig.savefig('Figure_4.png', bbox_inches=\"tight\")"
   ]
  },
  {
   "cell_type": "code",
   "execution_count": null,
   "id": "444399ac",
   "metadata": {},
   "outputs": [],
   "source": []
  }
 ],
 "metadata": {
  "kernelspec": {
   "display_name": "Python 3",
   "language": "python",
   "name": "python3"
  },
  "language_info": {
   "codemirror_mode": {
    "name": "ipython",
    "version": 3
   },
   "file_extension": ".py",
   "mimetype": "text/x-python",
   "name": "python",
   "nbconvert_exporter": "python",
   "pygments_lexer": "ipython3",
   "version": "3.8.8"
  }
 },
 "nbformat": 4,
 "nbformat_minor": 5
}
