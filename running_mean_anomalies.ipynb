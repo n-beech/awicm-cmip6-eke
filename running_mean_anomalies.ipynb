{
 "cells": [
  {
   "cell_type": "markdown",
   "metadata": {},
   "source": [
    "# Anomaly calculations relative to a 21-year running mean\n",
    "The mean state of ocean circulation is changing with climate change. Anomalies are calculated with respect to the ensemble mean of a 21-year running mean for each 5-day mean period during the year."
   ]
  },
  {
   "cell_type": "code",
   "execution_count": null,
   "metadata": {},
   "outputs": [],
   "source": [
    "import xarray as xr\n",
    "import numpy as np\n",
    "from cdo import *\n",
    "cdo=Cdo()\n",
    "import datetime as dt\n",
    "from joblib import Parallel, delayed"
   ]
  },
  {
   "cell_type": "markdown",
   "metadata": {},
   "source": [
    "Calculate the running mean"
   ]
  },
  {
   "cell_type": "code",
   "execution_count": null,
   "metadata": {},
   "outputs": [],
   "source": [
    "inds=[]\n",
    "temp=xr.open_dataset('c6_ssh-vo_mon_lin_eq_5day_node_r1_1850-2100_nol.nc')\n",
    "for j in np.arange(len(temp.time))[730:-730]:\n",
    "    inds.append(np.arange((j-(10*73)),(j+(11*73)),73))"
   ]
  },
  {
   "cell_type": "code",
   "execution_count": null,
   "metadata": {},
   "outputs": [],
   "source": [
    "def run_mean(i,data):\n",
    "    return np.mean(data[inds[i],:].values,axis=0) "
   ]
  },
  {
   "cell_type": "code",
   "execution_count": null,
   "metadata": {},
   "outputs": [],
   "source": [
    "for k in [1,2,3,4,5]:\n",
    "    #vo\n",
    "    temp=xr.open_dataset('c6_ssh-vo_mon_lin_eq_5day_node_r'+str(k)+'_1850-2100_nol.nc')\n",
    "    dtemp=temp.vo\n",
    "    \n",
    "    rmvals=Parallel(n_jobs=-1,batch_size=20,verbose=10)(delayed(run_mean)(i,dtemp) for i in np.arange(len(inds)))\n",
    "    rmvals=np.asarray(rmvals)\n",
    "    \n",
    "    tempds=xr.DataArray(data=rmvals,coords={'time':temp.time[730:-730]},\n",
    "                          dims=['time','ncells'],\n",
    "                          attrs={'description':'21-year running mean of 5-day mean vo values',\n",
    "                                 'units':'m/s',\n",
    "                                })\n",
    "    tempda=tempds.to_dataset(name='vo')\n",
    "    tempda=tempda.assign({'time_bnds':temp.time_bnds[730:-730]})\n",
    "    tempda.to_netcdf('c6_ssh-vo_mon_lin_eq_5day_node_r'+str(k)+'_1860-2090_21yr_seas_rm.nc') "
   ]
  },
  {
   "cell_type": "code",
   "execution_count": null,
   "metadata": {},
   "outputs": [],
   "source": [
    "for run in [1,2,3,4,5]:\n",
    "    #uo\n",
    "    temp=xr.open_dataset('c6_ssh-uo_mon_lin_eq_5day_node_r'+str(run)+'_1850-2100_nol.nc')\n",
    "    dtemp=temp.uo\n",
    "    \n",
    "    rmvals=Parallel(n_jobs=-1,batch_size=20,verbose=10)(delayed(run_mean)(i,dtemp) for i in np.arange(len(inds)))\n",
    "    rmvals=np.asarray(rmvals)\n",
    "    \n",
    "    tempds=xr.DataArray(data=rmvals,coords={'time':temp.time[730:-730]},\n",
    "                          dims=['time','ncells'],\n",
    "                          attrs={'description':'21-year running mean of 5-day mean uo values',\n",
    "                                 'units':'m/s',\n",
    "                                })\n",
    "    tempda=tempds.to_dataset(name='uo')\n",
    "    tempda=tempda.assign({'time_bnds':temp.time_bnds[730:-730]})\n",
    "    tempda.to_netcdf('c6_ssh-uo_mon_lin_eq_5day_node_r'+str(run)+'_1860-2090_21yr_seas_rm.nc') "
   ]
  },
  {
   "cell_type": "markdown",
   "metadata": {},
   "source": [
    "Take advantage of the five-member ensemble to to increase the reference data"
   ]
  },
  {
   "cell_type": "code",
   "execution_count": null,
   "metadata": {},
   "outputs": [],
   "source": [
    "files=[]\n",
    "for run in [1,2,3,4,5]:\n",
    "    files.append('c6_ssh-uo_mon_lin_eq_5day_node_r'+str(run)+'_1860-2090_21yr_seas_rm.nc')\n",
    "outp='c6_ssh-uo_mon_lin_eq_5day_node_ensmean_1860-2090_21yr_seas_rm.nc'\n",
    "cdo.ensmean(input=(files),output=outp)"
   ]
  },
  {
   "cell_type": "code",
   "execution_count": null,
   "metadata": {},
   "outputs": [],
   "source": [
    "files=[]\n",
    "for run in [1,2,3,4,5]:\n",
    "    files.append('c6_ssh-vo_mon_lin_eq_5day_node_r'+str(run)+'_1860-2090_21yr_seas_rm.nc')\n",
    "outp='c6_ssh-vo_mon_lin_eq_5day_node_ensmean_1860-2090_21yr_seas_rm.nc'\n",
    "cdo.ensmean(input=(files),output=outp)"
   ]
  },
  {
   "cell_type": "markdown",
   "metadata": {},
   "source": [
    "Calculate the anomalies relative to the running mean"
   ]
  },
  {
   "cell_type": "code",
   "execution_count": null,
   "metadata": {},
   "outputs": [],
   "source": [
    "#remove time lost to running mean (10years each end)\n",
    "for run in [1,2,3,4,5]:\n",
    "    temp=xr.open_dataset('c6_ssh-vo_mon_lin_eq_5day_node_r'+str(run)+'_1850-2100_nol.nc')\n",
    "    temp=temp.sel({'time':temp.time[730:-730]})\n",
    "    outp='c6_ssh-vo_mon_lin_eq_5day_node_r'+str(run)+'_1860-2090_nol.nc'\n",
    "    temp.to_netcdf(outp)"
   ]
  },
  {
   "cell_type": "code",
   "execution_count": null,
   "metadata": {},
   "outputs": [],
   "source": [
    "for run in [1,2,3,4,5]:\n",
    "    temp=xr.open_dataset('c6_ssh-uo_mon_lin_eq_5day_node_r'+str(run)+'_1850-2100_nol.nc')\n",
    "    temp=temp.sel({'time':temp.time[730:-730]})\n",
    "    outp='c6_ssh-uo_mon_lin_eq_5day_node_r'+str(run)+'_1860-2090_nol.nc'\n",
    "    temp.to_netcdf(outp)"
   ]
  },
  {
   "cell_type": "code",
   "execution_count": null,
   "metadata": {},
   "outputs": [],
   "source": [
    "#subtract the ensemble mean of running means\n",
    "mean='c6_ssh-uo_mon_lin_eq_5day_node_ensmean_1860-2090_nol_21yr_seas_rm.nc'\n",
    "\n",
    "for run in [1,2,3,4,5]:\n",
    "    inp='c6_ssh-uo_mon_lin_eq_5day_node_r'+str(run)+'_1860-2090_nol.nc'\n",
    "    outp='c6_ssh-uo_mon_lin_eq_5day_node_r'+str(run)+'_1860-2090_nol_anom.nc'\n",
    "    cdo.sub(input=([inp,mean]),output=outp)"
   ]
  },
  {
   "cell_type": "code",
   "execution_count": null,
   "metadata": {},
   "outputs": [],
   "source": [
    "mean='c6_ssh-vo_mon_lin_eq_5day_node_ensmean_1860-2090_nol_21yr_seas_rm.nc'\n",
    "\n",
    "for run in [1,2,3,4,5]:\n",
    "    inp='c6_ssh-vo_mon_lin_eq_5day_node_r'+str(run)+'_1860-2090_nol.nc'\n",
    "    outp='c6_ssh-vo_mon_lin_eq_5day_node_r'+str(run)+'_1860-2090_nol_anom.nc'\n",
    "    cdo.sub(input=([inp,mean]),output=outp)"
   ]
  },
  {
   "cell_type": "code",
   "execution_count": null,
   "metadata": {},
   "outputs": [],
   "source": []
  }
 ],
 "metadata": {
  "kernelspec": {
   "display_name": "Python 3",
   "language": "python",
   "name": "python3"
  },
  "language_info": {
   "codemirror_mode": {
    "name": "ipython",
    "version": 3
   },
   "file_extension": ".py",
   "mimetype": "text/x-python",
   "name": "python",
   "nbconvert_exporter": "python",
   "pygments_lexer": "ipython3",
   "version": "3.8.8"
  }
 },
 "nbformat": 4,
 "nbformat_minor": 4
}
