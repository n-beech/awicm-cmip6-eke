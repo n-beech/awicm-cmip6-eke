{
 "cells": [
  {
   "cell_type": "markdown",
   "metadata": {},
   "source": [
    "# Area weighting data on an unstructured ocean mesh\n",
    "An unstructured mesh means that each cell can be a different size. Using the mesh information the EKE data will be weighted by cell area before the calculation of standardized and area-integrated ocean basin timeseries."
   ]
  },
  {
   "cell_type": "code",
   "execution_count": null,
   "metadata": {},
   "outputs": [],
   "source": [
    "import xarray as xr\n",
    "import numpy as np\n",
    "from joblib import Parallel, delayed"
   ]
  },
  {
   "cell_type": "code",
   "execution_count": null,
   "metadata": {},
   "outputs": [],
   "source": [
    "#load mesh information\n",
    "griddes=xr.open_dataset(meshpath+'griddes.nc')"
   ]
  },
  {
   "cell_type": "code",
   "execution_count": null,
   "metadata": {},
   "outputs": [],
   "source": [
    "#each ensemble member\n",
    "for run in [1,2,3,4,5]:\n",
    "    eke_data=xr.open_dataset('c6_ssh-eke_mon_lin_eq_5day_node_r'+str(run)+'_1860-2090_nol_21yr_anom_runmean_rename.nc')\n",
    "    weighted_eke=eke_data.EKE*griddes.cell_area\n",
    "    \n",
    "    weighted_eke=weighted_eke.assign_attrs({'description':'Modeled eddy kinetic energy computed using 5day mean geostrophic surface velocity data. Anomalies based on 21yr running mean for each 5 day period. Weighted by cell area.',\n",
    "                                           'data':'historic-ssp370 simulations from AWICM1s CMIP6 contribution. r'+str(run)+' of five ensemble members'})\n",
    "    temp=weighted_eke.to_dataset(name='w_EKE')\n",
    "    temp.to_netcdf('weighted/c6_ssh-eke_mon_lin_eq_5day_node_r'+str(run)+'_1860-2090_nol_21yr_anom_runmean_rename_weighted.nc')"
   ]
  },
  {
   "cell_type": "code",
   "execution_count": null,
   "metadata": {},
   "outputs": [],
   "source": [
    "#observations\n",
    "eke_data=xr.open_dataset('obs_eke_1993-2020_nol_5d_rm_runmean_mdata.nc')\n",
    "weighted_eke=eke_data.EKE*griddes.cell_area\n",
    "\n",
    "weighted_eke=weighted_eke.assign_attrs({'description':'Observed eddy kinetic energy computed using 5day mean geostrophic surface velocity data. Anomalies based on 20 year reference period for each 5 day period. Weighted by cell area.',\n",
    "                                       'data':'Satelite observations'})\n",
    "temp=weighted_eke.to_dataset(name='w_EKE')\n",
    "temp.to_netcdf('obs_eke_1993-2020_nol_5d_rm_runmean_mdata_weighted.nc')"
   ]
  },
  {
   "cell_type": "code",
   "execution_count": null,
   "metadata": {},
   "outputs": [],
   "source": []
  }
 ],
 "metadata": {
  "kernelspec": {
   "display_name": "Python 3",
   "language": "python",
   "name": "python3"
  },
  "language_info": {
   "codemirror_mode": {
    "name": "ipython",
    "version": 3
   },
   "file_extension": ".py",
   "mimetype": "text/x-python",
   "name": "python",
   "nbconvert_exporter": "python",
   "pygments_lexer": "ipython3",
   "version": "3.8.8"
  }
 },
 "nbformat": 4,
 "nbformat_minor": 4
}
